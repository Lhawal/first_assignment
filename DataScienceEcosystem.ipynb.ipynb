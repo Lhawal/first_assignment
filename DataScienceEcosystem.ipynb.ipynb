{
  "metadata": {
    "kernelspec": {
      "name": "python",
      "display_name": "Python (Pyodide)",
      "language": "python"
    },
    "language_info": {
      "codemirror_mode": {
        "name": "python",
        "version": 3
      },
      "file_extension": ".py",
      "mimetype": "text/x-python",
      "name": "python",
      "nbconvert_exporter": "python",
      "pygments_lexer": "ipython3",
      "version": "3.8"
    }
  },
  "nbformat_minor": 4,
  "nbformat": 4,
  "cells": [
    {
      "cell_type": "markdown",
      "source": "# Data Science Tools and Ecosystem",
      "metadata": {}
    },
    {
      "cell_type": "markdown",
      "source": "## In this notebook, Data Science Tools and Ecosystem are summarized.\n\n**Objectives:**\n\n- List popular languages for Data Science\n- list commonly used libraries used by Data Scientists\n- mention the popular Data Scientist tools",
      "metadata": {}
    },
    {
      "cell_type": "markdown",
      "source": "### Some of the popular languages that Data Scientists use are:",
      "metadata": {}
    },
    {
      "cell_type": "markdown",
      "source": "1. Python\n2. R\n3. SQL\n4. Scala\n5. Java",
      "metadata": {}
    },
    {
      "cell_type": "markdown",
      "source": "##### Some of the commonly used libraries used by Data Scientists include:",
      "metadata": {}
    },
    {
      "cell_type": "markdown",
      "source": "--------------------------",
      "metadata": {}
    },
    {
      "cell_type": "markdown",
      "source": "- Matplotlib\n- ggplot\n- numpy\n- panda\n- Seaborn",
      "metadata": {}
    },
    {
      "cell_type": "markdown",
      "source": "| Data Science Tools   |\n| --------------------  |\n| Anaconda |\n| Jupyter  |\n| R        |",
      "metadata": {}
    },
    {
      "cell_type": "markdown",
      "source": "### Below are a few examples of evaluating arithmetic expressions in Python\n",
      "metadata": {}
    },
    {
      "cell_type": "code",
      "source": "# This a simple arithmetic expression to mutiply then add integers\n\n(3*4) + 5",
      "metadata": {
        "trusted": true,
        "scrolled": true
      },
      "outputs": [
        {
          "execution_count": 18,
          "output_type": "execute_result",
          "data": {
            "text/plain": "17"
          },
          "metadata": {}
        }
      ],
      "execution_count": 18
    },
    {
      "cell_type": "code",
      "source": "# This will convert 200 minutes to hours by diving by 60\ny= 200/60\n\nprint( 'This will convert 200minutes to' ,y, 'hours')\n",
      "metadata": {
        "trusted": true
      },
      "outputs": [
        {
          "name": "stdout",
          "text": "This will convert 200minutes to 3.3333333333333335 hours\n",
          "output_type": "stream"
        }
      ],
      "execution_count": 16
    },
    {
      "cell_type": "markdown",
      "source": "#### Author ####\nSikiru",
      "metadata": {}
    },
    {
      "cell_type": "code",
      "source": "",
      "metadata": {
        "trusted": true
      },
      "outputs": [],
      "execution_count": null
    }
  ]
}